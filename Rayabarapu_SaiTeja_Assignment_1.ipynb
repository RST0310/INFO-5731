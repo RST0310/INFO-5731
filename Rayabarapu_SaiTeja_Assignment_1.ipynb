{
  "cells": [
    {
      "cell_type": "markdown",
      "metadata": {
        "id": "view-in-github",
        "colab_type": "text"
      },
      "source": [
        "<a href=\"https://colab.research.google.com/github/RST0310/INFO-5731/blob/main/Rayabarapu_SaiTeja_Assignment_1.ipynb\" target=\"_parent\"><img src=\"https://colab.research.google.com/assets/colab-badge.svg\" alt=\"Open In Colab\"/></a>"
      ]
    },
    {
      "cell_type": "markdown",
      "metadata": {
        "id": "Ryk8D1Q4Wsrp"
      },
      "source": [
        "# **INFO5731 Assignment One**"
      ]
    },
    {
      "cell_type": "markdown",
      "metadata": {
        "id": "qcP6re2g5A5r"
      },
      "source": [
        "This assignment includes range of programming tasks and data analysis exercises, aiming to enhance your Python skills and proficiency in string manipulation, numerical computations, and data science. Follow the instructions carefully and design well-structured Python programs to address each question.\n",
        "\n",
        "Late Submission will have a penalty of 10% reduction for each day after the deadline."
      ]
    },
    {
      "cell_type": "markdown",
      "metadata": {
        "id": "JkzR8cFAyGik"
      },
      "source": [
        "# Question 1 (10 points).\n",
        "\n",
        "The formula that describes the volume V of a hemisphere with radius r is the following:\n",
        "\n",
        "$ V=\\frac{2}{3}\\ast\\ \\pi\\ast\\ r^3 $\n",
        "\n",
        "Write a program to calculate the value of V when r is in the range of even numbers from 1-20. Output the result in the following format:\n",
        "\n",
        "\tr\tV\n",
        "\t2\t…\n",
        "\t4\t…\n",
        "\t6\t…\n",
        "\t.\n",
        "\t.\n",
        "\t.\n",
        "\t20\t…\n"
      ]
    },
    {
      "cell_type": "code",
      "execution_count": null,
      "metadata": {
        "colab": {
          "base_uri": "https://localhost:8080/"
        },
        "id": "jDyTKYs-yGit",
        "outputId": "d45215a6-9160-4499-d21b-b7d4c519ff7e"
      },
      "outputs": [
        {
          "name": "stdout",
          "output_type": "stream",
          "text": [
            "r    V\n",
            "---------\n",
            "2    16.76\n",
            "4    134.04\n",
            "6    452.39\n",
            "8    1072.33\n",
            "10    2094.40\n",
            "12    3619.11\n",
            "14    5747.02\n",
            "16    8578.64\n",
            "18    12214.51\n",
            "20    16755.16\n"
          ]
        }
      ],
      "source": [
        "import math\n",
        "\n",
        "def calculate_hemisphere_volume(radius):\n",
        "    volume = (2/3) * math.pi * radius**3\n",
        "    return volume\n",
        "\n",
        "def main():\n",
        "    print(\"r    V\")\n",
        "    print(\"---------\")\n",
        "\n",
        "    for r in range(2, 21, 2):\n",
        "        volume = calculate_hemisphere_volume(r)\n",
        "        print(f\"{r}    {volume:.2f}\")\n",
        "\n",
        "if __name__ == \"__main__\":\n",
        "    main()\n"
      ]
    },
    {
      "cell_type": "markdown",
      "metadata": {
        "id": "90_NR8c5XGWc"
      },
      "source": [
        "# Question 2 (20 points)\n",
        "\n",
        "(a) Write a Python program to generate a sequence of 12 random numbers falling within the range of 50 to 150.\n",
        "\n",
        "(b) Arrange the generated numbers in ascending order. Display the sorted list.\n",
        "\n",
        "(c) Extend the program to arrange the numbers in descending order as well. Present the sorted list accordingly.\n",
        "\n",
        "(d) Compute and output the average of the entire group of generated numbers.\n",
        "\n",
        "(e) Enhance the program to calculate and display the average of the first 6 numbers from both the ascending and descending sorted lists."
      ]
    },
    {
      "cell_type": "code",
      "execution_count": null,
      "metadata": {
        "colab": {
          "base_uri": "https://localhost:8080/"
        },
        "id": "5QX6bJjGWXY9",
        "outputId": "17dc1431-1e54-42d8-e3f3-cc9ef139fa66"
      },
      "outputs": [
        {
          "name": "stdout",
          "output_type": "stream",
          "text": [
            "Ascending Order: [71, 86, 101, 103, 109, 112, 116, 119, 127, 134, 136, 144]\n",
            "Descending Order: [144, 136, 134, 127, 119, 116, 112, 109, 103, 101, 86, 71]\n",
            "Average of the entire group: 113.16666666666667\n",
            "Average of the first 6 numbers (ascending): 97.0\n",
            "Average of the first 6 numbers (descending): 129.33333333333334\n"
          ]
        }
      ],
      "source": [
        "import random\n",
        "\n",
        "def generate_random_numbers():\n",
        "    return [random.randint(50, 150) for _ in range(12)]\n",
        "\n",
        "def main():\n",
        "    # (a) Generate a sequence of 12 random numbers\n",
        "    random_numbers = generate_random_numbers()\n",
        "\n",
        "    # (b) Arrange in ascending order and display\n",
        "    ascending_sorted = sorted(random_numbers)\n",
        "    print(\"Ascending Order:\", ascending_sorted)\n",
        "\n",
        "    # (c) Arrange in descending order and display\n",
        "    descending_sorted = sorted(random_numbers, reverse=True)\n",
        "    print(\"Descending Order:\", descending_sorted)\n",
        "\n",
        "    # (d) Compute and output the average of the entire group\n",
        "    average_whole_group = sum(random_numbers) / len(random_numbers)\n",
        "    print(\"Average of the entire group:\", average_whole_group)\n",
        "\n",
        "    # (e) Calculate and display the average of the first 6 numbers\n",
        "    average_first_six_asc = sum(ascending_sorted[:6]) / 6\n",
        "    average_first_six_desc = sum(descending_sorted[:6]) / 6\n",
        "\n",
        "    print(\"Average of the first 6 numbers (ascending):\", average_first_six_asc)\n",
        "    print(\"Average of the first 6 numbers (descending):\", average_first_six_desc)\n",
        "\n",
        "if __name__ == \"__main__\":\n",
        "    main()\n"
      ]
    },
    {
      "cell_type": "markdown",
      "metadata": {
        "id": "1F_PZdH9Sh49"
      },
      "source": [
        "# Question 3 (20 points).\n",
        "\n",
        "Create a Python program that encompasses various string manipulation task:\n",
        "\n",
        "(a) Prompt the user to input two sentences.\n",
        "\n",
        "(b) Transform each sentence into a list, where each element corresponds to a word in the sentence. For example, if the sentences are \"Hello, how are you doing today?\" and \"This is an example sentence for the program!\"\n",
        "\n",
        "The program should output:\n",
        "['Hello', ',', 'how', 'are', 'you', 'doing', 'today', '?', 'This', 'is', 'an', 'example', 'sentence', 'for', 'the', 'program', '!']\n",
        "\n",
        "(c) Compare the two sentences. Print out a list of words that occur in both sentences.\n",
        "\n",
        "(d) Remove any punctuation from the sentence and print the sanitized sentences. It should remove at least the following characters, but it can remove more: period(“.”), comma (“,”), semicolon (“;”), and colon (“:”).\n",
        "\n",
        "(e) Count the number of vowels in each of the sentences. Print out each vowel and the occurrences  in the each of the two sentences separately, such as:\n",
        "\n",
        "Sentence1: a:2, e:2, i:0, etc.\n",
        "Sentence2: a:1, e:2, i:2, etc.\n",
        "\n",
        "Design a well-structured Python program to execute these tasks efficiently."
      ]
    },
    {
      "cell_type": "code",
      "execution_count": null,
      "metadata": {
        "colab": {
          "base_uri": "https://localhost:8080/"
        },
        "id": "Y0oOSlsOS0cq",
        "outputId": "7c0c4ecf-8783-47e9-95f2-361ff30b2eb1"
      },
      "outputs": [
        {
          "name": "stdout",
          "output_type": "stream",
          "text": [
            "Enter the first sentence: I love Cricket\n",
            "Enter the second sentence: I am inspired by MS Dhoni\n",
            "Output: ['I', 'love', 'Cricket', 'I', 'am', 'inspired', 'by', 'MS', 'Dhoni']\n",
            "Common words: ['I']\n",
            "Sanitized Sentence 1: I love Cricket\n",
            "Sanitized Sentence 2: I am inspired by MS Dhoni\n",
            "Vowel Counts Sentence 1: {'a': 0, 'e': 2, 'i': 2, 'o': 1, 'u': 0}\n",
            "Vowel Counts Sentence 2: {'a': 1, 'e': 1, 'i': 4, 'o': 1, 'u': 0}\n"
          ]
        }
      ],
      "source": [
        "import string\n",
        "\n",
        "def input_sentences():\n",
        "    sentence1 = input(\"Enter the first sentence: \")\n",
        "    sentence2 = input(\"Enter the second sentence: \")\n",
        "    return sentence1, sentence2\n",
        "\n",
        "def transform_to_list(sentence):\n",
        "    words_list = sentence.split()\n",
        "    return [word.strip(string.punctuation) for word in words_list]\n",
        "\n",
        "def find_common_words(sentence1, sentence2):\n",
        "    list1 = transform_to_list(sentence1)\n",
        "    list2 = transform_to_list(sentence2)\n",
        "    common_words = set(list1) & set(list2)\n",
        "    return list(common_words)\n",
        "\n",
        "def remove_punctuation(sentence):\n",
        "    translator = str.maketrans(\"\", \"\", string.punctuation)\n",
        "    return sentence.translate(translator)\n",
        "\n",
        "def count_vowels(sentence):\n",
        "    vowels = \"aeiou\"\n",
        "    vowel_counts = {vowel: sentence.lower().count(vowel) for vowel in vowels}\n",
        "    return vowel_counts\n",
        "\n",
        "def main():\n",
        "    # (a) Prompt user for input\n",
        "    sentence1, sentence2 = input_sentences()\n",
        "\n",
        "    # (b) Transform each sentence into a list of words\n",
        "    list1 = transform_to_list(sentence1)\n",
        "    list2 = transform_to_list(sentence2)\n",
        "\n",
        "    # (c) Compare and print common words\n",
        "    common_words = find_common_words(sentence1, sentence2)\n",
        "    print(\"Output:\", list1 + list2)\n",
        "    print(\"Common words:\", common_words)\n",
        "\n",
        "    # (d) Remove punctuation and print sanitized sentences\n",
        "    sanitized_sentence1 = remove_punctuation(sentence1)\n",
        "    sanitized_sentence2 = remove_punctuation(sentence2)\n",
        "    print(\"Sanitized Sentence 1:\", sanitized_sentence1)\n",
        "    print(\"Sanitized Sentence 2:\", sanitized_sentence2)\n",
        "\n",
        "    # (e) Count vowels and print occurrences\n",
        "    vowel_counts1 = count_vowels(sentence1)\n",
        "    vowel_counts2 = count_vowels(sentence2)\n",
        "    print(\"Vowel Counts Sentence 1:\", vowel_counts1)\n",
        "    print(\"Vowel Counts Sentence 2:\", vowel_counts2)\n",
        "\n",
        "if __name__ == \"__main__\":\n",
        "    main()\n"
      ]
    },
    {
      "cell_type": "markdown",
      "metadata": {
        "id": "OP4-5qxAtInv"
      },
      "source": [
        "# Question 4 (20 Points)"
      ]
    },
    {
      "cell_type": "markdown",
      "metadata": {
        "id": "uzN4_hDptK9U"
      },
      "source": [
        "Design and implement a simple command-line calculator program. The program should handle both integers and floating-point numbers.\n",
        "\n",
        "(a) Write program that takes a mathematical expression as input and evaluates it. The program should support addition, subtraction, multiplication, and division.\n",
        "\n",
        "(b) Extend the calculator to handle parentheses in mathematical expressions. Implement the necessary logic to evaluate expressions with nested parentheses.\n",
        "\n",
        "(c) Enhance your calculator to include additional mathematical operations such as exponentiation, square root, and modulus.\n",
        "\n",
        "(d) Implement error handling in the calculator program. Handle cases such as division by zero and invalid input expressions. Provide meaningful error messages.\n",
        "\n",
        "(e) Implement a command to exit the calculator."
      ]
    },
    {
      "cell_type": "code",
      "execution_count": 13,
      "metadata": {
        "colab": {
          "base_uri": "https://localhost:8080/"
        },
        "id": "8nQnVxjJuYtu",
        "outputId": "5810f0dc-adb1-465c-c8df-300eb352071c"
      },
      "outputs": [
        {
          "output_type": "stream",
          "name": "stdout",
          "text": [
            "Simple Command-Line Calculator\n",
            "Enter a mathematical expression (type 'exit' to quit): (4 * (9 / 3) + (7 ** 2) - (sqrt(81) + 3)) / 2 + (10 % 3) * 5\n",
            "Result: 29.5\n",
            "Enter a mathematical expression (type 'exit' to quit): 3 / 0\n",
            "Error: Division by zero\n",
            "Enter a mathematical expression (type 'exit' to quit): exit\n",
            "Exiting the calculator.\n"
          ]
        }
      ],
      "source": [
        "import math\n",
        "from math import sqrt\n",
        "\n",
        "def evaluate_expression(expression):\n",
        "    try:\n",
        "        result = eval(expression)\n",
        "        return result\n",
        "    except ZeroDivisionError:\n",
        "        return \"Error: Division by zero\"\n",
        "    except Exception as e:\n",
        "        return f\"Error: {str(e)}\"\n",
        "\n",
        "def main():\n",
        "    print(\"Simple Command-Line Calculator\")\n",
        "\n",
        "    while True:\n",
        "        user_input = input(\"Enter a mathematical expression (type 'exit' to quit): \")\n",
        "\n",
        "        if user_input.lower() == 'exit':\n",
        "            print(\"Exiting the calculator.\")\n",
        "            break\n",
        "\n",
        "        result = evaluate_expression(user_input)\n",
        "\n",
        "        if isinstance(result, (int, float)):\n",
        "            print(\"Result:\", result)\n",
        "        else:\n",
        "            print(result)\n",
        "\n",
        "if __name__ == \"__main__\":\n",
        "    main()\n"
      ]
    },
    {
      "cell_type": "markdown",
      "metadata": {
        "id": "z3tBE7E-Xn5X"
      },
      "source": [
        "# Question 5 (30 points).\n",
        "\n",
        "In the field of Data Science, data is often formatted as a comma-delimited (CSV) file, where each line in a file corresponds to a field's value. Refer to Chapter 9 (p. 106) for more information on comma-delimited files.\n",
        "\n",
        "To answer this question, you will need to download the file [Assignment1_denton_housing.csv](https://raw.githubusercontent.com/unt-iialab/info5731-spring2022/main/assignments/Assignment1_denton_housing.csv) included with this assignment. The file contains statistics about housing in the city of Denton from 2008 to 2014. Write a program to implement the following questions.\n",
        "\n",
        "(a) (5 pts) Calculate the difference in the number of Occupied Housing Units from year to year and print it. The difference must be calculated for the consecutive years such as 2008-2009, 2009-2010 etc. Finally, print the values in the ascending order.\n",
        "\n",
        "(b) (5 pts) For all the years, calculate the percentage of housing units which are vacant an occupied. Print the results in the following format:\n",
        "\n",
        "Year Vacant Housing Units Occupied Housing Units\n",
        "\n",
        "    2008  30%   70%                          \n",
        "\t2009 ----- -----\n",
        "\t2010 ----- -----\n",
        "    2011 ----- -----\n",
        "\t2012 ----- -----\n",
        "    2013 ----- -----\n",
        "\t2014 ----- -----\n",
        "  \n",
        "  \n",
        "\n",
        "(c) (10 pts) Calculate and print the valued and years in which the highest number of housing units were vacant and occupied. Print the results in the following format:  \n",
        "\n",
        "                              Year\tValue\n",
        "\tVacant Housing Units\t  -----   -----\n",
        "\tOccupied Housing Units\t-----   -----\n",
        "\n",
        "(d) (10 pts) Calculate the harmonic mean of the total housing units and print it out. You can find the information about harmonic mean here: https://ncalculators.com/statistics/harmonic-mean-calculator.htm"
      ]
    },
    {
      "cell_type": "code",
      "execution_count": 12,
      "metadata": {
        "id": "lqGYuHBhcsRH",
        "colab": {
          "base_uri": "https://localhost:8080/"
        },
        "outputId": "a15ad93e-a221-426a-b84a-a83fee54faa4"
      },
      "outputs": [
        {
          "output_type": "stream",
          "name": "stdout",
          "text": [
            "Year Difference in Occupied Housing Units:\n",
            "2008-2009: -795\n",
            "2009-2010: 5091\n",
            "2010-2011: -303\n",
            "2011-2012: 1404\n",
            "2012-2013: 1565\n",
            "2013-2014: 2622\n",
            "\n",
            "Year  Vacant Housing Units  Occupied Housing Units\n",
            "2008    10.88%    89.12%\n",
            "2009    9.07%    90.93%\n",
            "2010    8.14%    91.86%\n",
            "2011    9.38%    90.62%\n",
            "2012    6.68%    93.32%\n",
            "2013    8.80%    91.20%\n",
            "2014    5.73%    94.27%\n",
            "\n",
            "Highest Number of Housing Units:\n",
            "Vacant Housing Units - Year: 2008, Value: 4483\n",
            "Occupied Housing Units - Year: 2014, Value: 46295\n",
            "\n",
            "Harmonic Mean of Total Housing Units: 44398.29\n"
          ]
        }
      ],
      "source": [
        "import csv\n",
        "from collections import defaultdict\n",
        "from statistics import harmonic_mean\n",
        "import os\n",
        "\n",
        "# File path to the CSV file in Google Colab\n",
        "file_path = '/content/Assignment1_denton_housing.csv'\n",
        "\n",
        "def read_csv(file_path):\n",
        "    with open(file_path, 'r') as file:\n",
        "        reader = csv.DictReader(file)\n",
        "        data = [row for row in reader]\n",
        "    return data\n",
        "\n",
        "data = read_csv(file_path)\n",
        "\n",
        "def calculate_occupied_housing_units_difference(data):\n",
        "    # Sort the data by year\n",
        "    sorted_data = sorted(data, key=lambda x: int(x['year']))\n",
        "\n",
        "    occupied_units_diff = {}\n",
        "    for i in range(1, len(sorted_data)):\n",
        "        current_year = int(sorted_data[i]['year'])\n",
        "        prev_year = int(sorted_data[i-1]['year'])\n",
        "\n",
        "        if current_year - prev_year == 1:\n",
        "            current_value = int(sorted_data[i]['value'])\n",
        "            prev_value = int(sorted_data[i-1]['value'])\n",
        "            difference = current_value - prev_value\n",
        "            occupied_units_diff[f\"{prev_year}-{current_year}\"] = difference\n",
        "\n",
        "    return occupied_units_diff\n",
        "\n",
        "\n",
        "def calculate_percentage_housing_units(data):\n",
        "    result = defaultdict(dict)\n",
        "    for row in data:\n",
        "        year = int(row['year'])\n",
        "        title_field = row['title_field']\n",
        "        value = int(row['value'])\n",
        "\n",
        "        if title_field == 'Vacant Housing Units':\n",
        "            result[year]['Vacant Housing Units'] = value\n",
        "        elif title_field == 'Occupied Housing Units':\n",
        "            result[year]['Occupied Housing Units'] = value\n",
        "\n",
        "    for year in result:\n",
        "        total_units = result[year].get('Vacant Housing Units', 0) + result[year].get('Occupied Housing Units', 0)\n",
        "        vacant_percentage = (result[year].get('Vacant Housing Units', 0) / total_units) * 100 if total_units > 0 else 0\n",
        "        occupied_percentage = (result[year].get('Occupied Housing Units', 0) / total_units) * 100 if total_units > 0 else 0\n",
        "        result[year]['Vacant Percentage'] = vacant_percentage\n",
        "        result[year]['Occupied Percentage'] = occupied_percentage\n",
        "\n",
        "    return result\n",
        "\n",
        "def calculate_highest_housing_units(data):\n",
        "    vacant_max = max((row for row in data if row['title_field'] == 'Vacant Housing Units'), key=lambda x: int(x['value']), default=None)\n",
        "    occupied_max = max((row for row in data if row['title_field'] == 'Occupied Housing Units'), key=lambda x: int(x['value']), default=None)\n",
        "\n",
        "    return (vacant_max['year'], vacant_max['value']) if vacant_max else None, (occupied_max['year'], occupied_max['value']) if occupied_max else None\n",
        "\n",
        "def calculate_harmonic_mean(data):\n",
        "    total_housing_units = [int(row['value']) for row in data if row['title_field'] == 'Total Housing Units']\n",
        "    return harmonic_mean(total_housing_units)\n",
        "\n",
        "# (a) Calculate the difference in the number of Occupied Housing Units from year to year\n",
        "occupied_units_data = [row for row in data if row['title_field'] == 'Occupied Housing Units']\n",
        "occupied_units_difference = calculate_occupied_housing_units_difference(occupied_units_data)\n",
        "print(\"Year Difference in Occupied Housing Units:\")\n",
        "# Print the differences in occupied housing units from year to year in ascending order of years\n",
        "for key in sorted(occupied_units_difference.keys()):\n",
        "    print(f\"{key}: {occupied_units_difference[key]}\")\n",
        "\n",
        "\n",
        "\n",
        "# (b) Calculate the percentage of housing units which are vacant and occupied for all years\n",
        "percentage_result = calculate_percentage_housing_units(data)\n",
        "print(\"\\nYear  Vacant Housing Units  Occupied Housing Units\")\n",
        "for year in sorted(percentage_result):\n",
        "    print(f\"{year}    {percentage_result[year]['Vacant Percentage']:.2f}%    {percentage_result[year]['Occupied Percentage']:.2f}%\")\n",
        "\n",
        "# (c) Calculate and print the values and years in which the highest number of housing units were vacant and occupied\n",
        "vacant_highest, occupied_highest = calculate_highest_housing_units(data)\n",
        "print(\"\\nHighest Number of Housing Units:\")\n",
        "print(f\"Vacant Housing Units - Year: {vacant_highest[0]}, Value: {vacant_highest[1]}\" if vacant_highest else \"No data available for vacant housing units\")\n",
        "print(f\"Occupied Housing Units - Year: {occupied_highest[0]}, Value: {occupied_highest[1]}\" if occupied_highest else \"No data available for occupied housing units\")\n",
        "\n",
        "# (d) Calculate the harmonic mean of the total housing units\n",
        "harmonic_mean_result = calculate_harmonic_mean(data)\n",
        "print(f\"\\nHarmonic Mean of Total Housing Units: {harmonic_mean_result:.2f}\")\n"
      ]
    },
    {
      "cell_type": "markdown",
      "metadata": {
        "id": "q8BFCvWp32cf"
      },
      "source": [
        "# Mandatory Question\n",
        "\n",
        "Provide your thoughts on the assignment. What did you find challenging, and what aspects did you enjoy? Your opinion on the provided time to complete the assignment. Share any suggestions for improvement. Your feedback will be valuable for enhancing the learning experience."
      ]
    },
    {
      "cell_type": "code",
      "execution_count": null,
      "metadata": {
        "id": "_e557s2w4BpK"
      },
      "outputs": [],
      "source": [
        "# I enjoyed the last question. It was a bit challenging for me to do it. There was enough time given to complete the assignment. No suggestions from my side. Everything is good from the subject perspective."
      ]
    }
  ],
  "metadata": {
    "colab": {
      "provenance": [],
      "include_colab_link": true
    },
    "kernelspec": {
      "display_name": "Python 3 (ipykernel)",
      "language": "python",
      "name": "python3"
    },
    "language_info": {
      "codemirror_mode": {
        "name": "ipython",
        "version": 3
      },
      "file_extension": ".py",
      "mimetype": "text/x-python",
      "name": "python",
      "nbconvert_exporter": "python",
      "pygments_lexer": "ipython3",
      "version": "3.9.12"
    }
  },
  "nbformat": 4,
  "nbformat_minor": 0
}