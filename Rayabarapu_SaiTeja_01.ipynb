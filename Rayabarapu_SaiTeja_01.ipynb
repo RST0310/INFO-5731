{
  "cells": [
    {
      "cell_type": "markdown",
      "metadata": {
        "id": "view-in-github",
        "colab_type": "text"
      },
      "source": [
        "<a href=\"https://colab.research.google.com/github/RST0310/INFO-5731/blob/main/Rayabarapu_SaiTeja_01.ipynb\" target=\"_parent\"><img src=\"https://colab.research.google.com/assets/colab-badge.svg\" alt=\"Open In Colab\"/></a>"
      ]
    },
    {
      "cell_type": "markdown",
      "metadata": {
        "id": "DymRJbxDBCnf"
      },
      "source": [
        "# **This first In-class-exercise cover a variety of fundamental concepts in Python and are designed to help individuals improve their coding skills and problem-solving abilities.**\n",
        "\n",
        "The submission is due on 01/31/2024 11:59 PM. This submission is worth 40 points in total.\n"
      ]
    },
    {
      "cell_type": "markdown",
      "source": [
        "(1) Write a Python program that  prompts the user to input the length and width of a rectangle, and then calculates and displays the area of the rectangle."
      ],
      "metadata": {
        "id": "FBKvD6O_TY6e"
      }
    },
    {
      "cell_type": "code",
      "source": [
        "def calculate_rectangle_area(length, width):\n",
        "    area = length * width\n",
        "    return area\n",
        "\n",
        "def main():\n",
        "    try:\n",
        "        # Get user input for length and width\n",
        "        length = float(input(\"Enter the length of the rectangle: \"))\n",
        "        width = float(input(\"Enter the width of the rectangle: \"))\n",
        "\n",
        "        # Calculate the area using the function\n",
        "        area = calculate_rectangle_area(length, width)\n",
        "\n",
        "        # Display the result\n",
        "        print(f\"The area of the rectangle with length {length} and width {width} is: {area}\")\n",
        "\n",
        "    except ValueError:\n",
        "        print(\"Error: Please enter valid numerical values for length and width.\")\n",
        "\n",
        "if __name__ == \"__main__\":\n",
        "    main()\n"
      ],
      "metadata": {
        "id": "cikVKDXdTbzE",
        "colab": {
          "base_uri": "https://localhost:8080/"
        },
        "outputId": "03af4b18-8b30-4d52-a4f3-532ed027bbd2"
      },
      "execution_count": 1,
      "outputs": [
        {
          "output_type": "stream",
          "name": "stdout",
          "text": [
            "Enter the length of the rectangle: 10\n",
            "Enter the width of the rectangle: 20\n",
            "The area of the rectangle with length 10.0 and width 20.0 is: 200.0\n"
          ]
        }
      ]
    },
    {
      "cell_type": "markdown",
      "source": [
        "(2) Create a Python program that interactively takes two numerical inputs from the user and swaps their values without utilizing an extra variable."
      ],
      "metadata": {
        "id": "E9RqrlwdTfvl"
      }
    },
    {
      "cell_type": "code",
      "source": [
        "# Function to swap two values without using an extra variable\n",
        "def swap_values(a, b):\n",
        "    a = a + b\n",
        "    b = a - b\n",
        "    a = a - b\n",
        "    return a, b\n",
        "\n",
        "# Input from the user\n",
        "input_1 = float(input(\"Enter the first numerical value: \"))\n",
        "input_2 = float(input(\"Enter the second numerical value: \"))\n",
        "\n",
        "# Display the original values\n",
        "print(\"\\nOriginal values:\")\n",
        "print(\"Value 1:\", input_1)\n",
        "print(\"Value 2:\", input_2)\n",
        "\n",
        "# Swap the values without using an extra variable\n",
        "input_1, input_2 = swap_values(input_1, input_2)\n",
        "\n",
        "# Display the swapped values\n",
        "print(\"\\nValues after swapping:\")\n",
        "print(\"Value 1:\", input_1)\n",
        "print(\"Value 2:\", input_2)\n"
      ],
      "metadata": {
        "id": "4XvRknixTh1g",
        "colab": {
          "base_uri": "https://localhost:8080/"
        },
        "outputId": "7abae98f-a356-4b1a-9ff9-4c3e103cd0e5"
      },
      "execution_count": 2,
      "outputs": [
        {
          "output_type": "stream",
          "name": "stdout",
          "text": [
            "Enter the first numerical value: 20\n",
            "Enter the second numerical value: 55\n",
            "\n",
            "Original values:\n",
            "Value 1: 20.0\n",
            "Value 2: 55.0\n",
            "\n",
            "Values after swapping:\n",
            "Value 1: 55.0\n",
            "Value 2: 20.0\n"
          ]
        }
      ]
    },
    {
      "cell_type": "markdown",
      "metadata": {
        "id": "03jb4GZsBkBS"
      },
      "source": [
        "(3) Write a Python script to determine and print the length of a user-input string."
      ]
    },
    {
      "cell_type": "code",
      "execution_count": 4,
      "metadata": {
        "id": "YaGLbSHHB8Ej",
        "colab": {
          "base_uri": "https://localhost:8080/"
        },
        "outputId": "f6f246f1-a51f-4346-b307-fe27b02742b4"
      },
      "outputs": [
        {
          "output_type": "stream",
          "name": "stdout",
          "text": [
            "Enter a string: aeroplane\n",
            "The length of the input string is: 9\n"
          ]
        }
      ],
      "source": [
        "def calculate_string_length(input_string):\n",
        "    length = 0\n",
        "    for _ in input_string:\n",
        "        length += 1\n",
        "    return length\n",
        "\n",
        "def main():\n",
        "    try:\n",
        "        # Get user input for the string\n",
        "        user_input = input(\"Enter a string: \")\n",
        "\n",
        "        # Calculate the length using the function\n",
        "        length = calculate_string_length(user_input)\n",
        "\n",
        "        # Display the result\n",
        "        print(f\"The length of the input string is: {length}\")\n",
        "\n",
        "    except Exception as e:\n",
        "        print(f\"Error: {e}\")\n",
        "\n",
        "if __name__ == \"__main__\":\n",
        "    main()\n"
      ]
    },
    {
      "cell_type": "markdown",
      "metadata": {
        "id": "jJDe71iLB616"
      },
      "source": [
        "(4) Construct a Python program that counts and displays the occurrences of each character in a given string.\n",
        "\n",
        "Sample String: 'openai.ai',\n",
        "\n",
        "Expected Result: {'a': 2, 'i': 2, '.': 1, 'o': 1, 'p': 1, 'e': 1, 'n': 1}"
      ]
    },
    {
      "cell_type": "code",
      "execution_count": 5,
      "metadata": {
        "id": "MtKskTzbCLaU",
        "colab": {
          "base_uri": "https://localhost:8080/"
        },
        "outputId": "d62ef28d-5ee0-4470-f20e-1ef6013c8f60"
      },
      "outputs": [
        {
          "output_type": "stream",
          "name": "stdout",
          "text": [
            "Enter a string: mahendra singh dhoni\n",
            "Occurrences of each character:\n",
            "m: 1\n",
            "a: 2\n",
            "h: 3\n",
            "e: 1\n",
            "n: 3\n",
            "d: 2\n",
            "r: 1\n",
            " : 2\n",
            "s: 1\n",
            "i: 2\n",
            "g: 1\n",
            "o: 1\n"
          ]
        }
      ],
      "source": [
        "def count_characters(input_string):\n",
        "    character_count = {}\n",
        "\n",
        "    for char in input_string:\n",
        "        if char in character_count:\n",
        "            character_count[char] += 1\n",
        "        else:\n",
        "            character_count[char] = 1\n",
        "\n",
        "    return character_count\n",
        "\n",
        "def main():\n",
        "    try:\n",
        "        # Get user input for the string\n",
        "        user_input = input(\"Enter a string: \")\n",
        "\n",
        "        # Calculate character occurrences using the function\n",
        "        occurrences = count_characters(user_input)\n",
        "\n",
        "        # Display the result\n",
        "        print(\"Occurrences of each character:\")\n",
        "        for char, count in occurrences.items():\n",
        "            print(f\"{char}: {count}\")\n",
        "\n",
        "    except Exception as e:\n",
        "        print(f\"Error: {e}\")\n",
        "\n",
        "if __name__ == \"__main__\":\n",
        "    main()\n"
      ]
    },
    {
      "cell_type": "markdown",
      "metadata": {
        "id": "55W9AMdXCSpV"
      },
      "source": [
        "(5) Design a Python code to calculate the sum of all elements in a user-provided list."
      ]
    },
    {
      "cell_type": "code",
      "execution_count": 7,
      "metadata": {
        "id": "I57NXsauCec2",
        "colab": {
          "base_uri": "https://localhost:8080/"
        },
        "outputId": "fcb63159-0911-440a-cdea-2e7f90575bb4"
      },
      "outputs": [
        {
          "output_type": "stream",
          "name": "stdout",
          "text": [
            "Enter a list of values separated by spaces: 1 23 45 98 77 08 789\n",
            "The sum of the elements in the custom list is: 1041.0\n"
          ]
        }
      ],
      "source": [
        "def calculate_custom_list_sum(custom_input_list):\n",
        "    custom_total_sum = 0\n",
        "\n",
        "    for custom_element in custom_input_list:\n",
        "        custom_total_sum += custom_element\n",
        "\n",
        "    return custom_total_sum\n",
        "\n",
        "def main():\n",
        "    try:\n",
        "        # Get user input for the custom list\n",
        "        user_custom_input = input(\"Enter a list of values separated by spaces: \")\n",
        "        custom_list = [float(custom_item) for custom_item in user_custom_input.split()]\n",
        "\n",
        "        # Calculate the sum using the custom function\n",
        "        custom_list_sum = calculate_custom_list_sum(custom_list)\n",
        "\n",
        "        # Display the result\n",
        "        print(f\"The sum of the elements in the custom list is: {custom_list_sum}\")\n",
        "\n",
        "    except ValueError:\n",
        "        print(\"Error: Please enter valid numerical values for the custom list elements.\")\n",
        "    except Exception as e:\n",
        "        print(f\"Error: {e}\")\n",
        "\n",
        "if __name__ == \"__main__\":\n",
        "    main()\n"
      ]
    },
    {
      "cell_type": "markdown",
      "metadata": {
        "id": "4ulBZ6yhCi9F"
      },
      "source": [
        "(6) Write a Python program that modifies a given string by replacing all occurrences of its first character with '$', excluding the first character itself.\n",
        "\n",
        "\n",
        "Sample String : 'restart‘,\n",
        "\n",
        "Expected Result : 'resta\\$t'"
      ]
    },
    {
      "cell_type": "code",
      "execution_count": 1,
      "metadata": {
        "id": "Fj0XhwbBCw2o",
        "colab": {
          "base_uri": "https://localhost:8080/"
        },
        "outputId": "ce9bb961-d627-4e4f-e1a6-0544e2b466ab"
      },
      "outputs": [
        {
          "output_type": "stream",
          "name": "stdout",
          "text": [
            "Enter a text: cricket\n",
            "The modified text is: cri$ket\n"
          ]
        }
      ],
      "source": [
        "def modify_string(input_text):\n",
        "    if len(input_text) < 2:\n",
        "        return input_text  # Nothing to modify if the string has less than 2 characters\n",
        "\n",
        "    first_char = input_text[0]\n",
        "    modified_text = first_char + input_text[1:].replace(first_char, '$')\n",
        "\n",
        "    return modified_text\n",
        "\n",
        "def main():\n",
        "    try:\n",
        "        # Get user input for the text\n",
        "        user_input_text = input(\"Enter a text: \")\n",
        "\n",
        "        # Modify the text using the function\n",
        "        modified_result = modify_string(user_input_text)\n",
        "\n",
        "        # Display the result\n",
        "        print(f\"The modified text is: {modified_result}\")\n",
        "\n",
        "    except Exception as e:\n",
        "        print(f\"Error: {e}\")\n",
        "\n",
        "if __name__ == \"__main__\":\n",
        "    main()\n"
      ]
    },
    {
      "cell_type": "markdown",
      "source": [
        "(7) Write a Python program using a while loop to compute the factorial of a user-supplied number."
      ],
      "metadata": {
        "id": "qVXA3q7ET5JI"
      }
    },
    {
      "cell_type": "code",
      "source": [
        "# Function to calculate the factorial of a number\n",
        "def calculate_factorial(num):\n",
        "    result = 1\n",
        "    while num > 0:\n",
        "        result *= num\n",
        "        num -= 1\n",
        "    return result\n",
        "\n",
        "# Input from the user\n",
        "user_number = int(input(\"Enter a number to calculate its factorial: \"))\n",
        "\n",
        "# Validate non-negative input\n",
        "while user_number < 0:\n",
        "    print(\"Please enter a non-negative integer.\")\n",
        "    user_number = int(input(\"Enter a number to calculate its factorial: \"))\n",
        "\n",
        "# Calculate and display the factorial\n",
        "factorial_result = calculate_factorial(user_number)\n",
        "print(f\"The factorial of {user_number} is: {factorial_result}\")\n"
      ],
      "metadata": {
        "id": "Lbt7R6UkT7BA",
        "colab": {
          "base_uri": "https://localhost:8080/"
        },
        "outputId": "67119f69-a658-4ca7-e4cd-7545a7de91e1"
      },
      "execution_count": 5,
      "outputs": [
        {
          "output_type": "stream",
          "name": "stdout",
          "text": [
            "Enter a number to calculate its factorial: 1\n",
            "The factorial of 1 is: 1\n"
          ]
        }
      ]
    },
    {
      "cell_type": "markdown",
      "source": [
        "(8) Create a program that accepts a list of numbers as input and outputs a new list containing only the even numbers."
      ],
      "metadata": {
        "id": "6YfbzXMNT--R"
      }
    },
    {
      "cell_type": "code",
      "source": [
        "# Function to filter even numbers from a list\n",
        "def filter_even_numbers(input_list):\n",
        "    even_numbers = [num for num in input_list if num % 2 == 0]\n",
        "    return even_numbers\n",
        "\n",
        "# Input from the user\n",
        "user_input = input(\"Enter a list of numbers separated by spaces: \")\n",
        "\n",
        "# Convert the input string to a list of integers\n",
        "input_numbers = [int(num) for num in user_input.split()]\n",
        "\n",
        "# Filter even numbers and display the result\n",
        "even_numbers_list = filter_even_numbers(input_numbers)\n",
        "print(\"Original List:\", input_numbers)\n",
        "print(\"List of Even Numbers:\", even_numbers_list)\n"
      ],
      "metadata": {
        "id": "54q7wMQPUAKu",
        "colab": {
          "base_uri": "https://localhost:8080/"
        },
        "outputId": "d45b2b6c-c60f-4a8e-ba8a-140fc78675da"
      },
      "execution_count": 6,
      "outputs": [
        {
          "output_type": "stream",
          "name": "stdout",
          "text": [
            "Enter a list of numbers separated by spaces: 25 65 98 45 78 41 56 45 12 99 123\n",
            "Original List: [25, 65, 98, 45, 78, 41, 56, 45, 12, 99, 123]\n",
            "List of Even Numbers: [98, 78, 56, 12]\n"
          ]
        }
      ]
    },
    {
      "cell_type": "markdown",
      "metadata": {
        "id": "_bIP7s1MCzue"
      },
      "source": [
        "\n",
        "(9) Design a Python function to check if a number is prime.\n"
      ]
    },
    {
      "cell_type": "code",
      "execution_count": 9,
      "metadata": {
        "id": "w79QilHXD3Mg",
        "colab": {
          "base_uri": "https://localhost:8080/"
        },
        "outputId": "a2e9dcdd-1986-46d3-9006-71547e923d49"
      },
      "outputs": [
        {
          "output_type": "stream",
          "name": "stdout",
          "text": [
            "Enter a number to check if it's prime: 2\n",
            "2 is a prime number.\n"
          ]
        }
      ],
      "source": [
        "# Function to check if a number is prime\n",
        "def is_prime(number):\n",
        "    if number < 2:\n",
        "        return False\n",
        "    for i in range(2, int(number**0.5) + 1):\n",
        "        if number % i == 0:\n",
        "            return False\n",
        "    return True\n",
        "\n",
        "# Input from the user\n",
        "user_number = int(input(\"Enter a number to check if it's prime: \"))\n",
        "\n",
        "# Check and display the result\n",
        "if is_prime(user_number):\n",
        "    print(f\"{user_number} is a prime number.\")\n",
        "else:\n",
        "    print(f\"{user_number} is not a prime number.\")\n"
      ]
    },
    {
      "cell_type": "markdown",
      "metadata": {
        "id": "xCa2bK9aD4Q3"
      },
      "source": [
        "(10) Write a Python program to concatenate following dictionaries to create a new one.\n",
        "\n",
        "Sample Dictionary : dic1={1:10, 2:20}, dic2={3:30, 4:40}, dic3={5:50,6:60},\n",
        "\n",
        "Expected Result : {1: 10, 2: 20, 3: 30, 4: 40, 5: 50, 6: 60}\n"
      ]
    },
    {
      "cell_type": "code",
      "execution_count": 10,
      "metadata": {
        "id": "_z4aLqAbEET1",
        "colab": {
          "base_uri": "https://localhost:8080/"
        },
        "outputId": "5c693624-6f9f-4a81-9626-e052635ade50"
      },
      "outputs": [
        {
          "output_type": "stream",
          "name": "stdout",
          "text": [
            "Original Dictionary 1: {'a': 1, 'b': 2}\n",
            "Original Dictionary 2: {'c': 3, 'd': 4}\n",
            "Original Dictionary 3: {'e': 5, 'f': 6}\n",
            "Concatenated Dictionary: {'a': 1, 'b': 2, 'c': 3, 'd': 4, 'e': 5, 'f': 6}\n"
          ]
        }
      ],
      "source": [
        "# Function to concatenate dictionaries\n",
        "def concatenate_dictionaries(*args):\n",
        "    result_dict = {}\n",
        "    for dictionary in args:\n",
        "        result_dict.update(dictionary)\n",
        "    return result_dict\n",
        "\n",
        "# Input dictionaries\n",
        "dict1 = {'a': 1, 'b': 2}\n",
        "dict2 = {'c': 3, 'd': 4}\n",
        "dict3 = {'e': 5, 'f': 6}\n",
        "\n",
        "# Concatenate dictionaries\n",
        "concatenated_dict = concatenate_dictionaries(dict1, dict2, dict3)\n",
        "\n",
        "# Display the original dictionaries and the concatenated dictionary\n",
        "print(\"Original Dictionary 1:\", dict1)\n",
        "print(\"Original Dictionary 2:\", dict2)\n",
        "print(\"Original Dictionary 3:\", dict3)\n",
        "print(\"Concatenated Dictionary:\", concatenated_dict)\n"
      ]
    },
    {
      "cell_type": "markdown",
      "source": [
        "(11) Design a Python function that takes a tuple of integers as input and returns the largest and smallest elements."
      ],
      "metadata": {
        "id": "bkyZ2xSZUOst"
      }
    },
    {
      "cell_type": "code",
      "source": [
        "# Function to find the largest and smallest elements in a tuple\n",
        "def find_largest_and_smallest(input_tuple):\n",
        "    if not input_tuple:\n",
        "        return None, None  # Return None for empty tuple\n",
        "\n",
        "    largest_val = smallest_val = input_tuple[0]\n",
        "\n",
        "    for num in input_tuple[1:]:\n",
        "        if num > largest_val:\n",
        "            largest_val = num\n",
        "        elif num < smallest_val:\n",
        "            smallest_val = num\n",
        "\n",
        "    return largest_val, smallest_val\n",
        "\n",
        "# Example usage:\n",
        "input_example_tuple = (15, 3, 7, 22, 11, 5, 18)\n",
        "largest_result, smallest_result = find_largest_and_smallest(input_example_tuple)\n",
        "\n",
        "# Display the result\n",
        "print(\"Original Tuple:\", input_example_tuple)\n",
        "print(\"Largest Element:\", largest_result)\n",
        "print(\"Smallest Element:\", smallest_result)\n"
      ],
      "metadata": {
        "id": "3FdLRBKOUQEd",
        "colab": {
          "base_uri": "https://localhost:8080/"
        },
        "outputId": "af995bfe-deb9-4c96-af3b-74e91983c9be"
      },
      "execution_count": 11,
      "outputs": [
        {
          "output_type": "stream",
          "name": "stdout",
          "text": [
            "Original Tuple: (15, 3, 7, 22, 11, 5, 18)\n",
            "Largest Element: 22\n",
            "Smallest Element: 3\n"
          ]
        }
      ]
    },
    {
      "cell_type": "markdown",
      "source": [
        "(12) Write a Python program that counts the frequency of each character in a given string and stores it in a dictionary."
      ],
      "metadata": {
        "id": "O0TVi3gKUTpp"
      }
    },
    {
      "cell_type": "code",
      "source": [
        "def count_characters(input_string):\n",
        "    # Initialize an empty dictionary to store character frequencies\n",
        "    char_frequency = {}\n",
        "\n",
        "    # Iterate through each character in the input string\n",
        "    for char in input_string:\n",
        "        # Check if the character is already in the dictionary\n",
        "        if char in char_frequency:\n",
        "            # Increment the count for the existing character\n",
        "            char_frequency[char] += 1\n",
        "        else:\n",
        "            # Add the character to the dictionary with count 1\n",
        "            char_frequency[char] = 1\n",
        "\n",
        "    return char_frequency\n",
        "\n",
        "# Example usage\n",
        "input_str = input(\"Enter a string: \")\n",
        "result = count_characters(input_str)\n",
        "\n",
        "# Display the character frequencies\n",
        "for char, count in result.items():\n",
        "    print(f\"Character: {char}, Frequency: {count}\")\n"
      ],
      "metadata": {
        "id": "lAtfSfZXUU-h",
        "colab": {
          "base_uri": "https://localhost:8080/"
        },
        "outputId": "39e3a713-afef-4cda-cb6c-6d0c6e50d5bc"
      },
      "execution_count": 13,
      "outputs": [
        {
          "output_type": "stream",
          "name": "stdout",
          "text": [
            "Enter a string: sai teja is a good cricket player\n",
            "Character: s, Frequency: 2\n",
            "Character: a, Frequency: 4\n",
            "Character: i, Frequency: 3\n",
            "Character:  , Frequency: 6\n",
            "Character: t, Frequency: 2\n",
            "Character: e, Frequency: 3\n",
            "Character: j, Frequency: 1\n",
            "Character: g, Frequency: 1\n",
            "Character: o, Frequency: 2\n",
            "Character: d, Frequency: 1\n",
            "Character: c, Frequency: 2\n",
            "Character: r, Frequency: 2\n",
            "Character: k, Frequency: 1\n",
            "Character: p, Frequency: 1\n",
            "Character: l, Frequency: 1\n",
            "Character: y, Frequency: 1\n"
          ]
        }
      ]
    },
    {
      "cell_type": "markdown",
      "metadata": {
        "id": "0v48Vqa7FrQh"
      },
      "source": [
        "(13) Implement a Python script to identify duplicate elements in a provided array of integers. Return -1 if there are no duplicates."
      ]
    },
    {
      "cell_type": "code",
      "execution_count": 18,
      "metadata": {
        "id": "7WEmgq-DF2P1",
        "colab": {
          "base_uri": "https://localhost:8080/"
        },
        "outputId": "e9f97af9-9681-4e2f-eee8-350aaf419db9"
      },
      "outputs": [
        {
          "output_type": "stream",
          "name": "stdout",
          "text": [
            "Enter integers separated by spaces: 1 -117 99 87 -117 45 99 1  56 45\n",
            "Duplicate elements: {99, 1, -117, 45}\n"
          ]
        }
      ],
      "source": [
        "# Function to identify duplicate elements in an array\n",
        "def find_duplicates(input_array):\n",
        "    seen_elements = set()\n",
        "    duplicates = set()\n",
        "\n",
        "    for element in input_array:\n",
        "        if element in seen_elements:\n",
        "            duplicates.add(element)\n",
        "        else:\n",
        "            seen_elements.add(element)\n",
        "\n",
        "    return duplicates if duplicates else -1\n",
        "\n",
        "# Input from the user\n",
        "user_input = input(\"Enter integers separated by spaces: \")\n",
        "\n",
        "# Convert input string to list of integers\n",
        "input_array = [int(num) for num in user_input.split()]\n",
        "\n",
        "# Find and display duplicates\n",
        "result = find_duplicates(input_array)\n",
        "if result == -1:\n",
        "    print(\"No duplicates found.\")\n",
        "else:\n",
        "    print(\"Duplicate elements:\", result)\n"
      ]
    },
    {
      "cell_type": "markdown",
      "metadata": {
        "id": "vD5PYLMuGga_"
      },
      "source": [
        "(14) Write a Python script to find the common elements between two lists."
      ]
    },
    {
      "cell_type": "code",
      "execution_count": 19,
      "metadata": {
        "id": "t0D5kdJUGjjw",
        "colab": {
          "base_uri": "https://localhost:8080/"
        },
        "outputId": "efb360d4-84d9-41aa-8886-aa0f9047e0ee"
      },
      "outputs": [
        {
          "output_type": "stream",
          "name": "stdout",
          "text": [
            "Enter integers for the first list separated by spaces: 56 45 89 75 12 15 45\n",
            "Enter integers for the second list separated by spaces: 27 36 59 12 15 37 21\n",
            "Common elements: [12, 15]\n"
          ]
        }
      ],
      "source": [
        "# Function to find common elements between two lists\n",
        "def find_common_elements(list1, list2):\n",
        "    set1 = set(list1)\n",
        "    set2 = set(list2)\n",
        "    common_elements = set1.intersection(set2)\n",
        "    return list(common_elements)\n",
        "\n",
        "# Input from the user\n",
        "user_input1 = input(\"Enter integers for the first list separated by spaces: \")\n",
        "user_input2 = input(\"Enter integers for the second list separated by spaces: \")\n",
        "\n",
        "# Convert input strings to lists of integers\n",
        "list1 = [int(num) for num in user_input1.split()]\n",
        "list2 = [int(num) for num in user_input2.split()]\n",
        "\n",
        "# Find and display common elements\n",
        "result = find_common_elements(list1, list2)\n",
        "if not result:\n",
        "    print(\"No common elements found.\")\n",
        "else:\n",
        "    print(\"Common elements:\", result)\n"
      ]
    },
    {
      "cell_type": "markdown",
      "metadata": {
        "id": "uHkd-y5VhVWC"
      },
      "source": [
        "(15) Write a Python program to randomly divide the students in this class into six groups for term projects, each group should have at least 4 students but no more than 6 students (including 6).\n",
        "\n",
        "Here is the students list:\n",
        "\n",
        "student_list_spring_2024=[rb0846,\n",
        "ac1964,\n",
        "hc0612,\n",
        "md0912,\n",
        "ad1198,\n",
        "md0894,\n",
        "md0825,\n",
        "vg0598,\n",
        "vg0433,\n",
        "mh1068,\n",
        "yj0173,\n",
        "pk0553,\n",
        "tk0411,\n",
        "srk0204,\n",
        "sk2922,\n",
        "sk2936,\n",
        "mk1302,\n",
        "mk1317,\n",
        "tk0412,\n",
        "vk0656,\n",
        "sm2985,\n",
        "mm2372,\n",
        "un0045,\n",
        "an0892,\n",
        "sn0913,\n",
        "gp0252,\n",
        "ap1484,\n",
        "mr1765,\n",
        "sr1385,\n",
        "sr1335,\n",
        "hs0665,\n",
        "ms2060,\n",
        "gt0217,\n",
        "nt0385,\n",
        "tv0186,\n",
        "sv1394,\n",
        "sv1752,\n",
        "sv1555,\n",
        "sy0594\n",
        "]\n"
      ]
    },
    {
      "cell_type": "code",
      "execution_count": 20,
      "metadata": {
        "id": "3iGbmcOBhTwy",
        "colab": {
          "base_uri": "https://localhost:8080/"
        },
        "outputId": "4e255f58-28e0-4351-d411-b6e7a88f1723"
      },
      "outputs": [
        {
          "output_type": "stream",
          "name": "stdout",
          "text": [
            "Group 1: sv1555, tv0186, sr1335, ap1484, mk1317\n",
            "Group 2: mh1068, hc0612, gp0252, sv1394, gt0217\n",
            "Group 3: vk0656, sk2922, mm2372, nt0385, vg0598\n",
            "Group 4: sm2985, ms2060, sk2936, rb0846, md0825\n",
            "Group 5: vg0433, tk0411, sr1385, md0912, un0045\n",
            "Group 6: pk0553, srk0204, ac1964, mr1765, hs0665\n",
            "Group 7: ad1198, sn0913, md0894, sv1752, tk0412\n",
            "Group 8: sy0594, an0892, yj0173, mk1302\n"
          ]
        }
      ],
      "source": [
        "import random\n",
        "\n",
        "# Function to randomly divide students into groups\n",
        "def divide_students_into_groups(student_list, min_group_size, max_group_size):\n",
        "    # Shuffle the student list to ensure randomness\n",
        "    random.shuffle(student_list)\n",
        "\n",
        "    # Initialize an empty list to store groups\n",
        "    groups = []\n",
        "\n",
        "    # Determine the number of students per group\n",
        "    students_per_group = random.randint(min_group_size, max_group_size)\n",
        "\n",
        "    # Iterate through the student list to form groups\n",
        "    for i in range(0, len(student_list), students_per_group):\n",
        "        group = student_list[i:i + students_per_group]\n",
        "        groups.append(group)\n",
        "\n",
        "    return groups\n",
        "\n",
        "# Students list for Spring 2024\n",
        "student_list_spring_2024 = ['rb0846', 'ac1964', 'hc0612', 'md0912', 'ad1198', 'md0894', 'md0825', 'vg0598', 'vg0433', 'mh1068', 'yj0173', 'pk0553', 'tk0411', 'srk0204', 'sk2922', 'sk2936', 'mk1302', 'mk1317', 'tk0412', 'vk0656', 'sm2985', 'mm2372', 'un0045', 'an0892', 'sn0913', 'gp0252', 'ap1484', 'mr1765', 'sr1385', 'sr1335', 'hs0665', 'ms2060', 'gt0217', 'nt0385', 'tv0186', 'sv1394', 'sv1752', 'sv1555', 'sy0594']\n",
        "\n",
        "# Specify the minimum and maximum group size\n",
        "min_group_size = 4\n",
        "max_group_size = 6\n",
        "\n",
        "# Divide students into groups and display the result\n",
        "groups_result = divide_students_into_groups(student_list_spring_2024, min_group_size, max_group_size)\n",
        "\n",
        "# Display the groups\n",
        "for i, group in enumerate(groups_result, start=1):\n",
        "    print(f\"Group {i}: {', '.join(group)}\")\n"
      ]
    },
    {
      "cell_type": "markdown",
      "metadata": {
        "id": "fmZ9vX20Qs3d"
      },
      "source": [
        "(16) Create a program that takes a positive integer 'n' as input and prints the count of even numbers from 1 to 'n'. Optimize the loop using the break statement."
      ]
    },
    {
      "cell_type": "code",
      "execution_count": 21,
      "metadata": {
        "id": "W8Jw6sWMQs3d",
        "colab": {
          "base_uri": "https://localhost:8080/"
        },
        "outputId": "43c95790-6209-4c0a-edbc-d2753c969204"
      },
      "outputs": [
        {
          "output_type": "stream",
          "name": "stdout",
          "text": [
            "Enter a positive integer 'n': 56\n",
            "The count of even numbers from 1 to 56 is: 28\n"
          ]
        }
      ],
      "source": [
        "# Function to count even numbers from 1 to n\n",
        "def count_even_numbers(n):\n",
        "    count = 0\n",
        "\n",
        "    for i in range(1, n + 1):\n",
        "        if i % 2 == 0:\n",
        "            count += 1\n",
        "        elif i > n:\n",
        "            break\n",
        "\n",
        "    return count\n",
        "\n",
        "# Input from the user\n",
        "user_input = int(input(\"Enter a positive integer 'n': \"))\n",
        "\n",
        "# Validate positive input\n",
        "while user_input <= 0:\n",
        "    print(\"Please enter a positive integer.\")\n",
        "    user_input = int(input(\"Enter a positive integer 'n': \"))\n",
        "\n",
        "# Calculate and display the count of even numbers\n",
        "even_count = count_even_numbers(user_input)\n",
        "print(f\"The count of even numbers from 1 to {user_input} is: {even_count}\")\n"
      ]
    },
    {
      "cell_type": "markdown",
      "metadata": {
        "id": "hvq4APMhQs3d"
      },
      "source": [
        "(17) Develop a Python function called 'count_vowels' that takes a string as input and returns the count of vowels (both lowercase and uppercase) present in the string, ignoring spaces and non-alphabetic characters."
      ]
    },
    {
      "cell_type": "code",
      "execution_count": 22,
      "metadata": {
        "id": "ZnoxhSglQs3d",
        "colab": {
          "base_uri": "https://localhost:8080/"
        },
        "outputId": "d8945358-172d-47f8-9408-81ceb78ece50"
      },
      "outputs": [
        {
          "output_type": "stream",
          "name": "stdout",
          "text": [
            "Enter a string: extrovert\n",
            "The count of vowels in the string is: 3\n"
          ]
        }
      ],
      "source": [
        "# Function to count vowels in a string\n",
        "def count_vowels(input_string):\n",
        "    vowels = set(\"aeiouAEIOU\")\n",
        "    vowel_count = 0\n",
        "\n",
        "    for char in input_string:\n",
        "        if char.isalpha() and char in vowels:\n",
        "            vowel_count += 1\n",
        "\n",
        "    return vowel_count\n",
        "\n",
        "# Example usage:\n",
        "user_input = input(\"Enter a string: \")\n",
        "result = count_vowels(user_input)\n",
        "\n",
        "# Display the result\n",
        "print(f\"The count of vowels in the string is: {result}\")\n"
      ]
    },
    {
      "cell_type": "markdown",
      "source": [
        "(18) Create a custom exception named ValueTooSmallError in Python. Write a program that takes user input for an age, and if the entered age is less than 18, raise the ValueTooSmallError with an appropriate error message."
      ],
      "metadata": {
        "id": "55FWoSJPVVM6"
      }
    },
    {
      "cell_type": "code",
      "source": [
        "# Custom exception class\n",
        "class ValueTooSmallError(Exception):\n",
        "    def __init__(self, message=\"Value is too small. Age must be 18 or older.\"):\n",
        "        self.message = message\n",
        "        super().__init__(self.message)\n",
        "\n",
        "# Function to validate age\n",
        "def validate_age(age):\n",
        "    if age < 18:\n",
        "        raise ValueTooSmallError()\n",
        "\n",
        "# Example usage:\n",
        "try:\n",
        "    # Input from the user\n",
        "    user_age = int(input(\"Enter your age: \"))\n",
        "\n",
        "    # Validate age\n",
        "    validate_age(user_age)\n",
        "\n",
        "    # Display success message\n",
        "    print(f\"Congratulations! You are {user_age} years old.\")\n",
        "\n",
        "except ValueTooSmallError as e:\n",
        "    # Handle the custom exception\n",
        "    print(f\"Error: {e}\")\n",
        "except ValueError:\n",
        "    # Handle invalid input (non-integer)\n",
        "    print(\"Error: Please enter a valid integer for age.\")\n"
      ],
      "metadata": {
        "id": "hwtr1wZmVX5A",
        "colab": {
          "base_uri": "https://localhost:8080/"
        },
        "outputId": "cdb91be4-925c-4c75-fad0-e062651b9c2b"
      },
      "execution_count": 23,
      "outputs": [
        {
          "output_type": "stream",
          "name": "stdout",
          "text": [
            "Enter your age: 17\n",
            "Error: Value is too small. Age must be 18 or older.\n"
          ]
        }
      ]
    },
    {
      "cell_type": "markdown",
      "source": [
        "(19) Develop a script that reverses a given string without using built-in reverse functions."
      ],
      "metadata": {
        "id": "Q9ecagcaVazW"
      }
    },
    {
      "cell_type": "code",
      "source": [
        "# Function to reverse a string\n",
        "def reverse_string(input_str):\n",
        "    reversed_str = \"\"\n",
        "\n",
        "    # Iterate through the characters in reverse order\n",
        "    for char in input_str[::-1]:\n",
        "        reversed_str += char\n",
        "\n",
        "    return reversed_str\n",
        "\n",
        "# Example usage:\n",
        "user_input = input(\"Enter a string: \")\n",
        "result = reverse_string(user_input)\n",
        "\n",
        "# Display the result\n",
        "print(f\"The reversed string is: {result}\")\n"
      ],
      "metadata": {
        "id": "gycgckoAVZjR",
        "colab": {
          "base_uri": "https://localhost:8080/"
        },
        "outputId": "16792550-fcbd-4423-e72c-3af38b2f5bca"
      },
      "execution_count": 24,
      "outputs": [
        {
          "output_type": "stream",
          "name": "stdout",
          "text": [
            "Enter a string: batsman\n",
            "The reversed string is: namstab\n"
          ]
        }
      ]
    },
    {
      "cell_type": "markdown",
      "source": [
        "(20) Implement a Python script to generate a random password of a specified length."
      ],
      "metadata": {
        "id": "ZFG6RibifMLu"
      }
    },
    {
      "cell_type": "code",
      "source": [
        "import random\n",
        "import string\n",
        "\n",
        "# Function to generate a random password\n",
        "def generate_random_password(length):\n",
        "    characters = string.ascii_letters + string.digits + string.punctuation\n",
        "    password = ''.join(random.choice(characters) for _ in range(length))\n",
        "    return password\n",
        "\n",
        "# Example usage:\n",
        "password_length = int(input(\"Enter the desired length for the random password: \"))\n",
        "\n",
        "# Validate positive input\n",
        "while password_length <= 0:\n",
        "    print(\"Please enter a positive length.\")\n",
        "    password_length = int(input(\"Enter the desired length for the random password: \"))\n",
        "\n",
        "# Generate and display the random password\n",
        "generated_password = generate_random_password(password_length)\n",
        "print(f\"Generated Random Password: {generated_password}\")\n"
      ],
      "metadata": {
        "id": "BFVrkEi9fNiD",
        "colab": {
          "base_uri": "https://localhost:8080/"
        },
        "outputId": "a331c6d9-e94f-43b1-86c8-e8696485ec12"
      },
      "execution_count": 25,
      "outputs": [
        {
          "output_type": "stream",
          "name": "stdout",
          "text": [
            "Enter the desired length for the random password: 12\n",
            "Generated Random Password: XjKvEhISnPje\n"
          ]
        }
      ]
    },
    {
      "cell_type": "markdown",
      "source": [
        "# Try these questions:"
      ],
      "metadata": {
        "id": "6SmvS7nSfbj8"
      }
    },
    {
      "cell_type": "markdown",
      "source": [
        "(21) Define a base class called 'Vehicle' with attributes make and model. Create a derived class Car that inherits from Vehicle and has an additional attribute 'num_doors'. Demonstrate an example of creating an instance of the 'Car' class and accessing its attributes."
      ],
      "metadata": {
        "id": "cboAr5pEWUf5"
      }
    },
    {
      "cell_type": "code",
      "source": [
        "# Base class 'Vehicle'\n",
        "class Vehicle:\n",
        "    def __init__(self, make, model):\n",
        "        self.make = make\n",
        "        self.model = model\n",
        "\n",
        "# Derived class 'Car' inheriting from 'Vehicle'\n",
        "class Car(Vehicle):\n",
        "    def __init__(self, make, model, num_doors):\n",
        "        super().__init__(make, model)\n",
        "        self.num_doors = num_doors\n",
        "\n",
        "# Example usage:\n",
        "car_instance = Car(make=\"Toyota\", model=\"Camry\", num_doors=4)\n",
        "\n",
        "# Accessing attributes\n",
        "print(f\"Make: {car_instance.make}\")\n",
        "print(f\"Model: {car_instance.model}\")\n",
        "print(f\"Number of Doors: {car_instance.num_doors}\")\n"
      ],
      "metadata": {
        "id": "phs9gciMWWAW",
        "colab": {
          "base_uri": "https://localhost:8080/"
        },
        "outputId": "6ef2138b-2430-4135-e57f-575c599fd6d6"
      },
      "execution_count": 26,
      "outputs": [
        {
          "output_type": "stream",
          "name": "stdout",
          "text": [
            "Make: Toyota\n",
            "Model: Camry\n",
            "Number of Doors: 4\n"
          ]
        }
      ]
    },
    {
      "cell_type": "markdown",
      "source": [
        "(22) Create a class called 'Shape' with a method calculate_area(). Implement two derived classes 'Circle' and 'Rectangle' that inherit from Shape and override the calculate_area() method. Demonstrate polymorphism by creating instances of both derived classes and calling the calculate_area() method."
      ],
      "metadata": {
        "id": "J8HHefNtePwd"
      }
    },
    {
      "cell_type": "code",
      "source": [
        "import math\n",
        "\n",
        "# Base class 'Shape'\n",
        "class Shape:\n",
        "    def calculate_area(self):\n",
        "        pass  # Placeholder for the method to be overridden\n",
        "\n",
        "# Derived class 'Circle' inheriting from 'Shape'\n",
        "class Circle(Shape):\n",
        "    def __init__(self, radius):\n",
        "        self.radius = radius\n",
        "\n",
        "    def calculate_area(self):\n",
        "        return math.pi * self.radius ** 2\n",
        "\n",
        "# Derived class 'Rectangle' inheriting from 'Shape'\n",
        "class Rectangle(Shape):\n",
        "    def __init__(self, length, width):\n",
        "        self.length = length\n",
        "        self.width = width\n",
        "\n",
        "    def calculate_area(self):\n",
        "        return self.length * self.width\n",
        "\n",
        "# Example usage:\n",
        "circle_instance = Circle(radius=5)\n",
        "rectangle_instance = Rectangle(length=4, width=6)\n",
        "\n",
        "# Calling the calculate_area() method for both instances\n",
        "circle_area = circle_instance.calculate_area()\n",
        "rectangle_area = rectangle_instance.calculate_area()\n",
        "\n",
        "# Displaying the calculated areas\n",
        "print(f\"Area of Circle: {circle_area:.2f}\")\n",
        "print(f\"Area of Rectangle: {rectangle_area}\")\n"
      ],
      "metadata": {
        "id": "btnMmUZDeRhS",
        "colab": {
          "base_uri": "https://localhost:8080/"
        },
        "outputId": "761e7769-2c3a-4e49-aed6-bc8e4bfe20aa"
      },
      "execution_count": 27,
      "outputs": [
        {
          "output_type": "stream",
          "name": "stdout",
          "text": [
            "Area of Circle: 78.54\n",
            "Area of Rectangle: 24\n"
          ]
        }
      ]
    },
    {
      "cell_type": "markdown",
      "source": [
        "(23) Write a Python program that prompts the user to enter two numbers and perform a division operation. Handle exceptions for both zero division and invalid input (non-numeric input). Display appropriate error messages for each type of exception and ensure the program does not crash due to these errors."
      ],
      "metadata": {
        "id": "z0oqEAlTeMUS"
      }
    },
    {
      "cell_type": "code",
      "source": [
        "def perform_division():\n",
        "    try:\n",
        "        # Input from the user\n",
        "        numerator = float(input(\"Enter the numerator: \"))\n",
        "        denominator = float(input(\"Enter the denominator: \"))\n",
        "\n",
        "        # Perform division\n",
        "        result = numerator / denominator\n",
        "\n",
        "        # Display the result\n",
        "        print(f\"Result of division: {result}\")\n",
        "\n",
        "    except ValueError:\n",
        "        # Handle invalid input (non-numeric)\n",
        "        print(\"Error: Please enter valid numeric values.\")\n",
        "\n",
        "    except ZeroDivisionError:\n",
        "        # Handle zero division\n",
        "        print(\"Error: Division by zero is not allowed.\")\n",
        "\n",
        "# Call the function to perform division\n",
        "perform_division()\n"
      ],
      "metadata": {
        "id": "yjdc1zM1eMAs",
        "colab": {
          "base_uri": "https://localhost:8080/"
        },
        "outputId": "dd637f52-a4d3-436b-91a9-5d7faf4a336f"
      },
      "execution_count": 31,
      "outputs": [
        {
          "output_type": "stream",
          "name": "stdout",
          "text": [
            "Enter the numerator: 27\n",
            "Enter the denominator: 0\n",
            "Error: Division by zero is not allowed.\n"
          ]
        }
      ]
    },
    {
      "cell_type": "markdown",
      "source": [
        "# Mandatory Question"
      ],
      "metadata": {
        "id": "sZOhks1dXWEe"
      }
    },
    {
      "cell_type": "markdown",
      "source": [
        "**Important:**\n",
        "Reflecting on the first three lectures and the exercises you've completed, please provide feedback on your learning experience. Share your thoughts on whether the material covered was clear, the exercises were helpful, and if you feel more confident in applying Python programming concepts. Additionally, mention any specific areas where you would like more clarification or topics you would like to explore further in future lectures. Your feedback is valuable in shaping the course for an effective learning journey."
      ],
      "metadata": {
        "id": "eqmHVEwaWhbV"
      }
    },
    {
      "cell_type": "markdown",
      "source": [
        "Write your response here."
      ],
      "metadata": {
        "id": "HlpXOT9wXQAd"
      }
    },
    {
      "cell_type": "code",
      "source": [
        "#I enjoyed the guest lectures by the Alumini students. The way of explaining concepts with code was really fantastic. The kind of exercises and submitting them in GitHub is a great idea. The material was highly helpful and I am getting a lot of knowledge."
      ],
      "metadata": {
        "id": "Dq2aOZU7XIke"
      },
      "execution_count": null,
      "outputs": []
    }
  ],
  "metadata": {
    "colab": {
      "provenance": [],
      "include_colab_link": true
    },
    "kernelspec": {
      "display_name": "Python 3 (ipykernel)",
      "language": "python",
      "name": "python3"
    },
    "language_info": {
      "codemirror_mode": {
        "name": "ipython",
        "version": 3
      },
      "file_extension": ".py",
      "mimetype": "text/x-python",
      "name": "python",
      "nbconvert_exporter": "python",
      "pygments_lexer": "ipython3",
      "version": "3.9.12"
    }
  },
  "nbformat": 4,
  "nbformat_minor": 0
}